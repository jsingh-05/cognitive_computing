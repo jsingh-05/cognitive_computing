{
 "nbformat": 4,
 "nbformat_minor": 0,
 "metadata": {
  "colab": {
   "provenance": []
  },
  "kernelspec": {
   "name": "python3",
   "display_name": "Python 3"
  },
  "language_info": {
   "name": "python"
  }
 },
 "cells": [
  {
   "cell_type": "code",
   "execution_count": 2,
   "metadata": {
    "id": "7drRbYHRmhUs",
    "colab": {
     "base_uri": "https://localhost:8080/"
    },
    "outputId": "feb1cafd-9ac3-4231-8286-bb9fcba30f49"
   },
   "outputs": [
    {
     "output_type": "stream",
     "name": "stdout",
     "text": [
      "Original Array: [10 20 30 40 50]\n",
      "After Adding 2: [12 22 32 42 52]\n",
      "After Multiplying by 3: [ 30  60  90 120 150]\n",
      "After Dividing by 2: [ 5. 10. 15. 20. 25.]\n"
     ]
    }
   ],
   "source": [
    "#A1\n",
    "import numpy as np\n",
    "\n",
    "arr = np.array([10, 20, 30, 40, 50])\n",
    "\n",
    "add_result = arr + 2\n",
    "multiply_result = arr * 3\n",
    "divide_result = arr / 2\n",
    "\n",
    "print(\"Original Array:\", arr)\n",
    "print(\"After Adding 2:\", add_result)\n",
    "print(\"After Multiplying by 3:\", multiply_result)\n",
    "print(\"After Dividing by 2:\", divide_result)\n"
   ]
  },
  {
   "cell_type": "code",
   "source": [
    "#A2(a)\n",
    "import numpy as np\n",
    "arr = np.array([1, 2, 3, 6, 4, 5])\n",
    "reversed_arr = arr[::-1]\n",
    "print(\"Original Array:\", arr)\n",
    "print(\"Reversed Array:\", reversed_arr)"
   ],
   "metadata": {
    "colab": {
     "base_uri": "https://localhost:8080/"
    },
    "id": "t-pwppjIrQ68",
    "outputId": "39958600-dafd-41e8-dde1-838761f8d725"
   },
   "execution_count": 3,
   "outputs": [
    {
     "output_type": "stream",
     "name": "stdout",
     "text": [
      "Original Array: [1 2 3 6 4 5]\n",
      "Reversed Array: [5 4 6 3 2 1]\n"
     ]
    }
   ]
  },
  {
   "cell_type": "code",
   "source": [
    "#A2(b)\n",
    "import numpy as np\n",
    "\n",
    "def most_frequent(arr):\n",
    "    unique_values, counts = np.unique(arr, return_counts=True)\n",
    "    max_count_index = np.argmax(counts)\n",
    "    most_frequent_value = unique_values[max_count_index]\n",
    "    indices = np.where(arr == most_frequent_value)[0]\n",
    "    return most_frequent_value, indices\n",
    "\n",
    "x = np.array([1, 2, 3, 4, 5, 1, 2, 1, 1, 1])\n",
    "\n",
    "most_x, indices_x = most_frequent(x)\n",
    "\n",
    "print(\"Most Frequent in x:\", most_x, \"Indices:\", indices_x)"
   ],
   "metadata": {
    "colab": {
     "base_uri": "https://localhost:8080/"
    },
    "id": "KG9VqI8brUXx",
    "outputId": "8eeb0b62-6b40-4542-b7d2-ff0da2cd1c70"
   },
   "execution_count": 10,
   "outputs": [
    {
     "output_type": "stream",
     "name": "stdout",
     "text": [
      "Most Frequent in x: 1 Indices: [0 5 7 8 9]\n"
     ]
    }
   ]
  },
  {
   "cell_type": "code",
   "source": [
    "#A2(b)\n",
    "import numpy as np\n",
    "\n",
    "def most_frequent(arr):\n",
    "    unique_values, counts = np.unique(arr, return_counts=True)\n",
    "    max_count_index = np.argmax(counts)\n",
    "    most_frequent_value = unique_values[max_count_index]\n",
    "    indices = np.where(arr == most_frequent_value)[0]\n",
    "    return most_frequent_value, indices\n",
    "\n",
    "y = np.array([1, 1, 1, 2, 3, 4, 2, 4, 3, 3])\n",
    "\n",
    "most_y, indices_y = most_frequent(y)\n",
    "\n",
    "print(\"Most Frequent in y:\", most_y, \"Indices:\", indices_y)"
   ],
   "metadata": {
    "colab": {
     "base_uri": "https://localhost:8080/"
    },
    "id": "KyUnyDAMs0mg",
    "outputId": "ecf1db77-4701-4cca-957a-db994aeb202e"
   },
   "execution_count": 9,
   "outputs": [
    {
     "output_type": "stream",
     "name": "stdout",
     "text": [
      "Most Frequent in y: 1 Indices: [0 1 2]\n"
     ]
    }
   ]
  },
  {
   "cell_type": "code",
   "source": [
    "#A3\n",
    "import numpy as np\n",
    "arr_2d = np.array([[10, 20, 30],\n",
    "                   [40, 50, 60],\n",
    "                   [70, 80, 90]])\n",
    "element_1_2 = arr_2d[0, 1]\n",
    "element_3_1 = arr_2d[2, 0]\n",
    "print(\"Element at (1,2):\", element_1_2)\n",
    "print(\"Element at (3,1):\", element_3_1)"
   ],
   "metadata": {
    "colab": {
     "base_uri": "https://localhost:8080/"
    },
    "id": "ITMR62iFtKbX",
    "outputId": "2b8ec4ee-dfef-4423-a1ae-5f9593ada24d"
   },
   "execution_count": 11,
   "outputs": [
    {
     "output_type": "stream",
     "name": "stdout",
     "text": [
      "Element at (1,2): 20\n",
      "Element at (3,1): 70\n"
     ]
    }
   ]
  },
  {
   "cell_type": "code",
   "source": [
    "#A4\n",
    "import numpy as np\n",
    "jessica_singh = np.linspace(10, 100, 25)\n",
    "\n",
    "print(\"Array:\", jessica_singh)\n",
    "print(\"Dimensions:\", jessica_singh.ndim)\n",
    "print(\"Shape:\", jessica_singh.shape)\n",
    "print(\"Total Elements:\", jessica_singh.size)\n",
    "print(\"Data Type:\", jessica_singh.dtype)\n",
    "print(\"Total Bytes:\", jessica_singh.nbytes)\n",
    "\n",
    "transposed_array = jessica_singh.reshape(25, 1)\n",
    "print(\"Transposed Array using reshape():\\n\", transposed_array)\n",
    "\n",
    "print(\"Transpose using .T:\\n\", jessica_singh.T)"
   ],
   "metadata": {
    "colab": {
     "base_uri": "https://localhost:8080/"
    },
    "id": "jZT-oSRMtRks",
    "outputId": "8e25971c-9c63-42b5-99b6-378468f1d142"
   },
   "execution_count": 13,
   "outputs": [
    {
     "output_type": "stream",
     "name": "stdout",
     "text": [
      "Array: [ 10.    13.75  17.5   21.25  25.    28.75  32.5   36.25  40.    43.75\n",
      "  47.5   51.25  55.    58.75  62.5   66.25  70.    73.75  77.5   81.25\n",
      "  85.    88.75  92.5   96.25 100.  ]\n",
      "Dimensions: 1\n",
      "Shape: (25,)\n",
      "Total Elements: 25\n",
      "Data Type: float64\n",
      "Total Bytes: 200\n",
      "Transposed Array using reshape():\n",
      " [[ 10.  ]\n",
      " [ 13.75]\n",
      " [ 17.5 ]\n",
      " [ 21.25]\n",
      " [ 25.  ]\n",
      " [ 28.75]\n",
      " [ 32.5 ]\n",
      " [ 36.25]\n",
      " [ 40.  ]\n",
      " [ 43.75]\n",
      " [ 47.5 ]\n",
      " [ 51.25]\n",
      " [ 55.  ]\n",
      " [ 58.75]\n",
      " [ 62.5 ]\n",
      " [ 66.25]\n",
      " [ 70.  ]\n",
      " [ 73.75]\n",
      " [ 77.5 ]\n",
      " [ 81.25]\n",
      " [ 85.  ]\n",
      " [ 88.75]\n",
      " [ 92.5 ]\n",
      " [ 96.25]\n",
      " [100.  ]]\n",
      "Transpose using .T:\n",
      " [ 10.    13.75  17.5   21.25  25.    28.75  32.5   36.25  40.    43.75\n",
      "  47.5   51.25  55.    58.75  62.5   66.25  70.    73.75  77.5   81.25\n",
      "  85.    88.75  92.5   96.25 100.  ]\n"
     ]
    }
   ]
  },
  {
   "cell_type": "code",
   "source": [
    "#A5\n",
    "ucs420_jessica_singh = np.array([[10, 20, 30, 40], [50, 60, 70, 80], [90, 15, 20, 35]])\n",
    "mean_val = np.mean(ucs420_jessica_singh)\n",
    "median_val = np.median(ucs420_jessica_singh)\n",
    "max_val = np.max(ucs420_jessica_singh)\n",
    "min_val = np.min(ucs420_jessica_singh)\n",
    "unique_val = np.unique(ucs420_jessica_singh)\n",
    "\n",
    "print(\"Mean: \", mean_val)\n",
    "print(\"Median: \", median_val)\n",
    "print(\"Max: \", max_val)\n",
    "print(\"Min: \", min_val)\n",
    "print(\"Unique: \", unique_val)\n",
    "\n",
    "reshaped_ucs420_jessica_singh = ucs420_jessica_singh.reshape(4,3)\n",
    "print(\"Reshaped array: \", reshaped_ucs420_jessica_singh)\n",
    "\n",
    "resized_reshaped_ucs420_jessica_singh = np.resize(ucs420_jessica_singh,(2,3))\n",
    "print(\"Resized array: \", resized_reshaped_ucs420_jessica_singh)"
   ],
   "metadata": {
    "colab": {
     "base_uri": "https://localhost:8080/"
    },
    "id": "bTMmsZbguZPB",
    "outputId": "04377865-3b39-40a7-e5f2-194f6ce33ffd"
   },
   "execution_count": 16,
   "outputs": [
    {
     "output_type": "stream",
     "name": "stdout",
     "text": [
      "Mean:  43.333333333333336\n",
      "Median:  37.5\n",
      "Max:  90\n",
      "Min:  10\n",
      "Unique:  [10 15 20 30 35 40 50 60 70 80 90]\n",
      "Reshaped array:  [[10 20 30]\n",
      " [40 50 60]\n",
      " [70 80 90]\n",
      " [15 20 35]]\n",
      "Resized array:  [[10 20 30]\n",
      " [40 50 60]]\n"
     ]
    }
   ]
  }
 ]
}
